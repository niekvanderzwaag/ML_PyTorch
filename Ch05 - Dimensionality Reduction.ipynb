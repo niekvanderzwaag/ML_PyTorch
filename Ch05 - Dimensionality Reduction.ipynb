{
 "cells": [
  {
   "cell_type": "markdown",
   "id": "e24ab90a",
   "metadata": {},
   "source": [
    "PCA - from scratch"
   ]
  },
  {
   "cell_type": "code",
   "execution_count": 2,
   "id": "05c3ce3f",
   "metadata": {},
   "outputs": [],
   "source": [
    "SEED = 42"
   ]
  },
  {
   "cell_type": "code",
   "execution_count": 3,
   "id": "22422200",
   "metadata": {},
   "outputs": [
    {
     "data": {
      "text/html": [
       "<div>\n",
       "<style scoped>\n",
       "    .dataframe tbody tr th:only-of-type {\n",
       "        vertical-align: middle;\n",
       "    }\n",
       "\n",
       "    .dataframe tbody tr th {\n",
       "        vertical-align: top;\n",
       "    }\n",
       "\n",
       "    .dataframe thead th {\n",
       "        text-align: right;\n",
       "    }\n",
       "</style>\n",
       "<table border=\"1\" class=\"dataframe\">\n",
       "  <thead>\n",
       "    <tr style=\"text-align: right;\">\n",
       "      <th></th>\n",
       "      <th>Class label</th>\n",
       "      <th>Alcohol</th>\n",
       "      <th>Malic acid</th>\n",
       "      <th>Ash</th>\n",
       "      <th>Alcalinity of ash</th>\n",
       "      <th>Magnesium</th>\n",
       "      <th>Total phenols</th>\n",
       "      <th>Flavanoids</th>\n",
       "      <th>Nonflavanoid phenols</th>\n",
       "      <th>Proanthocyanins</th>\n",
       "      <th>Color intensity</th>\n",
       "      <th>Hue</th>\n",
       "      <th>OD280/OD315 of diluted wines</th>\n",
       "      <th>Proline</th>\n",
       "    </tr>\n",
       "  </thead>\n",
       "  <tbody>\n",
       "    <tr>\n",
       "      <th>0</th>\n",
       "      <td>1</td>\n",
       "      <td>14.23</td>\n",
       "      <td>1.71</td>\n",
       "      <td>2.43</td>\n",
       "      <td>15.6</td>\n",
       "      <td>127</td>\n",
       "      <td>2.80</td>\n",
       "      <td>3.06</td>\n",
       "      <td>0.28</td>\n",
       "      <td>2.29</td>\n",
       "      <td>5.64</td>\n",
       "      <td>1.04</td>\n",
       "      <td>3.92</td>\n",
       "      <td>1065</td>\n",
       "    </tr>\n",
       "    <tr>\n",
       "      <th>1</th>\n",
       "      <td>1</td>\n",
       "      <td>13.20</td>\n",
       "      <td>1.78</td>\n",
       "      <td>2.14</td>\n",
       "      <td>11.2</td>\n",
       "      <td>100</td>\n",
       "      <td>2.65</td>\n",
       "      <td>2.76</td>\n",
       "      <td>0.26</td>\n",
       "      <td>1.28</td>\n",
       "      <td>4.38</td>\n",
       "      <td>1.05</td>\n",
       "      <td>3.40</td>\n",
       "      <td>1050</td>\n",
       "    </tr>\n",
       "    <tr>\n",
       "      <th>2</th>\n",
       "      <td>1</td>\n",
       "      <td>13.16</td>\n",
       "      <td>2.36</td>\n",
       "      <td>2.67</td>\n",
       "      <td>18.6</td>\n",
       "      <td>101</td>\n",
       "      <td>2.80</td>\n",
       "      <td>3.24</td>\n",
       "      <td>0.30</td>\n",
       "      <td>2.81</td>\n",
       "      <td>5.68</td>\n",
       "      <td>1.03</td>\n",
       "      <td>3.17</td>\n",
       "      <td>1185</td>\n",
       "    </tr>\n",
       "    <tr>\n",
       "      <th>3</th>\n",
       "      <td>1</td>\n",
       "      <td>14.37</td>\n",
       "      <td>1.95</td>\n",
       "      <td>2.50</td>\n",
       "      <td>16.8</td>\n",
       "      <td>113</td>\n",
       "      <td>3.85</td>\n",
       "      <td>3.49</td>\n",
       "      <td>0.24</td>\n",
       "      <td>2.18</td>\n",
       "      <td>7.80</td>\n",
       "      <td>0.86</td>\n",
       "      <td>3.45</td>\n",
       "      <td>1480</td>\n",
       "    </tr>\n",
       "    <tr>\n",
       "      <th>4</th>\n",
       "      <td>1</td>\n",
       "      <td>13.24</td>\n",
       "      <td>2.59</td>\n",
       "      <td>2.87</td>\n",
       "      <td>21.0</td>\n",
       "      <td>118</td>\n",
       "      <td>2.80</td>\n",
       "      <td>2.69</td>\n",
       "      <td>0.39</td>\n",
       "      <td>1.82</td>\n",
       "      <td>4.32</td>\n",
       "      <td>1.04</td>\n",
       "      <td>2.93</td>\n",
       "      <td>735</td>\n",
       "    </tr>\n",
       "  </tbody>\n",
       "</table>\n",
       "</div>"
      ],
      "text/plain": [
       "   Class label  Alcohol  ...  OD280/OD315 of diluted wines  Proline\n",
       "0            1    14.23  ...                          3.92     1065\n",
       "1            1    13.20  ...                          3.40     1050\n",
       "2            1    13.16  ...                          3.17     1185\n",
       "3            1    14.37  ...                          3.45     1480\n",
       "4            1    13.24  ...                          2.93      735\n",
       "\n",
       "[5 rows x 14 columns]"
      ]
     },
     "execution_count": 3,
     "metadata": {},
     "output_type": "execute_result"
    }
   ],
   "source": [
    "import pandas as pd\n",
    "df_wine = pd.read_csv('https://archive.ics.uci.edu/ml/'\n",
    "                      'machine-learning-databases/wine/wine.data',\n",
    "                      header=None)\n",
    "df_wine.columns = ['Class label', 'Alcohol', 'Malic acid', 'Ash',\n",
    "                   'Alcalinity of ash', 'Magnesium', 'Total phenols',\n",
    "                   'Flavanoids', 'Nonflavanoid phenols', 'Proanthocyanins',\n",
    "                   'Color intensity', 'Hue',\n",
    "                   'OD280/OD315 of diluted wines', 'Proline']\n",
    "\n",
    "df_wine.head()"
   ]
  },
  {
   "cell_type": "code",
   "execution_count": 4,
   "id": "28ecf922",
   "metadata": {},
   "outputs": [],
   "source": [
    "from sklearn.model_selection import train_test_split\n",
    "\n",
    "X, y = df_wine.iloc[:, 1:].values, df_wine.iloc[:, 0].values\n",
    "\n",
    "X_train, X_test, y_train, y_test = \\\n",
    "    train_test_split(X, y, test_size=0.3, \n",
    "                     stratify=y,\n",
    "                     random_state=SEED)"
   ]
  },
  {
   "cell_type": "code",
   "execution_count": 5,
   "id": "9274f85c",
   "metadata": {},
   "outputs": [],
   "source": [
    "from sklearn.preprocessing import StandardScaler\n",
    "sc = StandardScaler()\n",
    "X_train_std = sc.fit_transform(X_train)\n",
    "X_test_std = sc.transform(X_test)"
   ]
  },
  {
   "cell_type": "code",
   "execution_count": 9,
   "id": "08788008",
   "metadata": {},
   "outputs": [
    {
     "data": {
      "text/plain": [
       "array([[ 0.15763477,  0.49414675,  0.13550025, -0.22002101, -0.1001375 ,\n",
       "         0.20436914,  0.00578955,  0.04666841, -0.29868842, -0.56269774,\n",
       "        -0.17889091, -0.38924236, -0.14436028],\n",
       "       [-0.25237011,  0.1670862 , -0.08484512,  0.34863385, -0.51191077,\n",
       "         0.36452972,  0.51124855,  0.03381991,  0.22155089, -0.06054546,\n",
       "         0.17580919,  0.11403549, -0.15978215],\n",
       "       [-0.01662626,  0.33581955, -0.61436922, -0.21029079,  0.10967198,\n",
       "         0.18888033, -0.0707048 ,  0.17376559,  0.02928534,  0.18377711,\n",
       "        -0.44222618,  0.37290998, -0.11455204],\n",
       "       [-0.23514225, -0.0230456 , -0.62199483,  0.11850515,  0.01880619,\n",
       "         0.03226373, -0.34711322, -0.16492916, -0.04198251, -0.3281213 ,\n",
       "         0.44478733, -0.19926928,  0.21726025],\n",
       "       [ 0.14285062,  0.2816766 , -0.08744449,  0.54616385,  0.60714326,\n",
       "         0.03967105,  0.24673831, -0.08350982,  0.03735091,  0.19114731,\n",
       "        -0.02153713, -0.33780751, -0.06123678],\n",
       "       [ 0.38989121,  0.07164769, -0.18025489, -0.01134185, -0.28882326,\n",
       "        -0.11967975, -0.07105096,  0.43422256, -0.29276883,  0.41903011,\n",
       "         0.3903896 , -0.21570778, -0.24219349],\n",
       "       [ 0.42596901,  0.00569565, -0.1288233 , -0.01728643, -0.23108185,\n",
       "         0.00397984, -0.02472872, -0.81736173, -0.04891097,  0.12337408,\n",
       "        -0.02987373,  0.06873651, -0.23724826],\n",
       "       [-0.28675917,  0.04855187, -0.22290079, -0.43279572, -0.03104048,\n",
       "        -0.44817645,  0.55560095, -0.14966303, -0.04429899,  0.14629463,\n",
       "        -0.03254713, -0.3290024 ,  0.1132762 ],\n",
       "       [ 0.30864294,  0.00589032, -0.16925303,  0.38816555, -0.17123031,\n",
       "        -0.60130433,  0.14591139,  0.14958555, -0.05594436, -0.39340716,\n",
       "        -0.2116297 ,  0.2552668 ,  0.15161081],\n",
       "       [-0.08886736,  0.52633004,  0.15886766, -0.05280192, -0.08025659,\n",
       "        -0.37715633, -0.32205055, -0.02544598,  0.61745081,  0.05160377,\n",
       "         0.15118626, -0.02528205, -0.16308069],\n",
       "       [ 0.30119689, -0.28399523, -0.14029634, -0.29582335,  0.32935599,\n",
       "         0.03887187,  0.26333196,  0.12780068,  0.35802554, -0.35713671,\n",
       "         0.28540554,  0.10169902, -0.42218666],\n",
       "       [ 0.37783572, -0.18136641, -0.13133987, -0.05170014, -0.21901727,\n",
       "         0.22289654, -0.01418764,  0.10716201,  0.50236448,  0.05947167,\n",
       "        -0.2681071 , -0.41852942,  0.43832826],\n",
       "       [ 0.28836287,  0.3703045 ,  0.11347494, -0.20518301,  0.13011228,\n",
       "         0.12981494,  0.20813693, -0.04939411, -0.0518583 ,  0.03170837,\n",
       "         0.40974091,  0.36303616,  0.58465831]])"
      ]
     },
     "execution_count": 9,
     "metadata": {},
     "output_type": "execute_result"
    }
   ],
   "source": [
    "#Obtrain eigenpairs covariance matrix\n",
    "import numpy as np\n",
    "cov_mat = np.cov(X_train_std.T)\n",
    "eigen_vals, eigen_vecs = np.linalg.eig(cov_mat)\n",
    "eigen_vals\n",
    "eigen_vecs"
   ]
  },
  {
   "cell_type": "code",
   "execution_count": null,
   "id": "e80d9951",
   "metadata": {},
   "outputs": [],
   "source": []
  }
 ],
 "metadata": {
  "kernelspec": {
   "display_name": "Python 3 (ipykernel)",
   "language": "python",
   "name": "python3"
  },
  "language_info": {
   "codemirror_mode": {
    "name": "ipython",
    "version": 3
   },
   "file_extension": ".py",
   "mimetype": "text/x-python",
   "name": "python",
   "nbconvert_exporter": "python",
   "pygments_lexer": "ipython3",
   "version": "3.8.12"
  },
  "toc": {
   "base_numbering": 1,
   "nav_menu": {},
   "number_sections": true,
   "sideBar": true,
   "skip_h1_title": false,
   "title_cell": "Table of Contents",
   "title_sidebar": "Contents",
   "toc_cell": false,
   "toc_position": {},
   "toc_section_display": true,
   "toc_window_display": false
  },
  "varInspector": {
   "cols": {
    "lenName": 16,
    "lenType": 16,
    "lenVar": 40
   },
   "kernels_config": {
    "python": {
     "delete_cmd_postfix": "",
     "delete_cmd_prefix": "del ",
     "library": "var_list.py",
     "varRefreshCmd": "print(var_dic_list())"
    },
    "r": {
     "delete_cmd_postfix": ") ",
     "delete_cmd_prefix": "rm(",
     "library": "var_list.r",
     "varRefreshCmd": "cat(var_dic_list()) "
    }
   },
   "types_to_exclude": [
    "module",
    "function",
    "builtin_function_or_method",
    "instance",
    "_Feature"
   ],
   "window_display": false
  }
 },
 "nbformat": 4,
 "nbformat_minor": 5
}
