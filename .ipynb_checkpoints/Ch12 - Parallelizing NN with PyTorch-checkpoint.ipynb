{
 "cells": [
  {
   "cell_type": "code",
   "execution_count": 2,
   "id": "8648fdf1",
   "metadata": {},
   "outputs": [],
   "source": [
    "import torch\n",
    "import numpy as np\n",
    "np.set_printoptions(precision=3)"
   ]
  },
  {
   "cell_type": "code",
   "execution_count": 3,
   "id": "6d3c72a7",
   "metadata": {},
   "outputs": [],
   "source": [
    "a = [1,2,3]\n",
    "b = np.array([4,5,6], dtype=np.int32)"
   ]
  },
  {
   "cell_type": "code",
   "execution_count": 4,
   "id": "3a4e3a6c",
   "metadata": {},
   "outputs": [],
   "source": [
    "t_a = torch.tensor(a)\n",
    "t_b = torch.from_numpy(b)"
   ]
  },
  {
   "cell_type": "code",
   "execution_count": 5,
   "id": "360d018e",
   "metadata": {},
   "outputs": [
    {
     "name": "stdout",
     "output_type": "stream",
     "text": [
      "tensor([1, 2, 3])\n",
      "tensor([4, 5, 6], dtype=torch.int32)\n"
     ]
    }
   ],
   "source": [
    "print(t_a)\n",
    "print(t_b)"
   ]
  },
  {
   "cell_type": "code",
   "execution_count": 8,
   "id": "1c1fe91f",
   "metadata": {},
   "outputs": [
    {
     "data": {
      "text/plain": [
       "torch.Size([2, 3])"
      ]
     },
     "execution_count": 8,
     "metadata": {},
     "output_type": "execute_result"
    }
   ],
   "source": [
    "t_ones = torch.ones(2,3)\n",
    "t_ones.shape"
   ]
  },
  {
   "cell_type": "code",
   "execution_count": 9,
   "id": "2fa8f532",
   "metadata": {},
   "outputs": [
    {
     "name": "stdout",
     "output_type": "stream",
     "text": [
      "tensor([[1., 1., 1.],\n",
      "        [1., 1., 1.]])\n"
     ]
    }
   ],
   "source": [
    "print(t_ones)"
   ]
  },
  {
   "cell_type": "code",
   "execution_count": 10,
   "id": "bcc0f7f6",
   "metadata": {},
   "outputs": [
    {
     "name": "stdout",
     "output_type": "stream",
     "text": [
      "tensor([[0.7335, 0.8399, 0.8170],\n",
      "        [0.2361, 0.4357, 0.3898]])\n"
     ]
    }
   ],
   "source": [
    "t_rand = torch.rand(2,3)\n",
    "print(t_rand)"
   ]
  },
  {
   "cell_type": "code",
   "execution_count": 13,
   "id": "6df39c54",
   "metadata": {},
   "outputs": [
    {
     "name": "stdout",
     "output_type": "stream",
     "text": [
      "torch.int64\n"
     ]
    }
   ],
   "source": [
    "t_a_new = t_a.to(torch.int64)\n",
    "print(t_a_new.dtype)"
   ]
  },
  {
   "cell_type": "code",
   "execution_count": 15,
   "id": "ca558fc5",
   "metadata": {},
   "outputs": [
    {
     "name": "stdout",
     "output_type": "stream",
     "text": [
      "torch.Size([3, 5])  -- to -->  torch.Size([5, 3])\n"
     ]
    }
   ],
   "source": [
    "t = torch.rand(3,5)\n",
    "t_tr = torch.transpose(t,0,1)\n",
    "print(t.shape, ' -- to --> ', t_tr.shape)"
   ]
  },
  {
   "cell_type": "code",
   "execution_count": 16,
   "id": "784e909d",
   "metadata": {},
   "outputs": [
    {
     "name": "stdout",
     "output_type": "stream",
     "text": [
      "torch.Size([30])  -- to -->  torch.Size([5, 6])\n"
     ]
    }
   ],
   "source": [
    "t = torch.zeros(30)\n",
    "t_reshape = t.reshape(5,6)\n",
    "print(t.shape, ' -- to --> ', t_reshape.shape)"
   ]
  },
  {
   "cell_type": "code",
   "execution_count": 18,
   "id": "afa14c5e",
   "metadata": {},
   "outputs": [
    {
     "name": "stdout",
     "output_type": "stream",
     "text": [
      "torch.Size([1, 2, 1, 4, 1])  -- to -->  torch.Size([1, 2, 4, 1])\n"
     ]
    }
   ],
   "source": [
    "t = torch.zeros(1,2,1,4,1)\n",
    "t_sqz = torch.squeeze(t,2)\n",
    "print(t.shape, ' -- to --> ', t_sqz.shape)"
   ]
  },
  {
   "cell_type": "code",
   "execution_count": null,
   "id": "6bea2a6f",
   "metadata": {},
   "outputs": [],
   "source": []
  }
 ],
 "metadata": {
  "kernelspec": {
   "display_name": "Python 3 (ipykernel)",
   "language": "python",
   "name": "python3"
  },
  "language_info": {
   "codemirror_mode": {
    "name": "ipython",
    "version": 3
   },
   "file_extension": ".py",
   "mimetype": "text/x-python",
   "name": "python",
   "nbconvert_exporter": "python",
   "pygments_lexer": "ipython3",
   "version": "3.8.12"
  },
  "toc": {
   "base_numbering": 1,
   "nav_menu": {},
   "number_sections": true,
   "sideBar": true,
   "skip_h1_title": false,
   "title_cell": "Table of Contents",
   "title_sidebar": "Contents",
   "toc_cell": false,
   "toc_position": {},
   "toc_section_display": true,
   "toc_window_display": false
  },
  "varInspector": {
   "cols": {
    "lenName": 16,
    "lenType": 16,
    "lenVar": 40
   },
   "kernels_config": {
    "python": {
     "delete_cmd_postfix": "",
     "delete_cmd_prefix": "del ",
     "library": "var_list.py",
     "varRefreshCmd": "print(var_dic_list())"
    },
    "r": {
     "delete_cmd_postfix": ") ",
     "delete_cmd_prefix": "rm(",
     "library": "var_list.r",
     "varRefreshCmd": "cat(var_dic_list()) "
    }
   },
   "types_to_exclude": [
    "module",
    "function",
    "builtin_function_or_method",
    "instance",
    "_Feature"
   ],
   "window_display": false
  }
 },
 "nbformat": 4,
 "nbformat_minor": 5
}
