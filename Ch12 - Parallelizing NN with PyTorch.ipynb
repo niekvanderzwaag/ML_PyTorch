{
 "cells": [
  {
   "cell_type": "code",
   "execution_count": 2,
   "id": "c36eadfb",
   "metadata": {},
   "outputs": [],
   "source": [
    "import torch\n",
    "import numpy as np\n",
    "np.set_printoptions(precision=3)"
   ]
  },
  {
   "cell_type": "code",
   "execution_count": 3,
   "id": "161dc024",
   "metadata": {},
   "outputs": [],
   "source": [
    "a = [1,2,3]\n",
    "b = np.array([4,5,6], dtype=np.int32)"
   ]
  },
  {
   "cell_type": "code",
   "execution_count": 4,
   "id": "64daf4d6",
   "metadata": {},
   "outputs": [],
   "source": [
    "t_a = torch.tensor(a)\n",
    "t_b = torch.from_numpy(b)"
   ]
  },
  {
   "cell_type": "code",
   "execution_count": 5,
   "id": "d7a695f4",
   "metadata": {},
   "outputs": [
    {
     "name": "stdout",
     "output_type": "stream",
     "text": [
      "tensor([1, 2, 3])\n",
      "tensor([4, 5, 6], dtype=torch.int32)\n"
     ]
    }
   ],
   "source": [
    "print(t_a)\n",
    "print(t_b)"
   ]
  },
  {
   "cell_type": "code",
   "execution_count": 8,
   "id": "2ab93a4d",
   "metadata": {},
   "outputs": [
    {
     "data": {
      "text/plain": [
       "torch.Size([2, 3])"
      ]
     },
     "execution_count": 8,
     "metadata": {},
     "output_type": "execute_result"
    }
   ],
   "source": [
    "t_ones = torch.ones(2,3)\n",
    "t_ones.shape"
   ]
  },
  {
   "cell_type": "code",
   "execution_count": 9,
   "id": "3cc600e6",
   "metadata": {},
   "outputs": [
    {
     "name": "stdout",
     "output_type": "stream",
     "text": [
      "tensor([[1., 1., 1.],\n",
      "        [1., 1., 1.]])\n"
     ]
    }
   ],
   "source": [
    "print(t_ones)"
   ]
  },
  {
   "cell_type": "code",
   "execution_count": 10,
   "id": "4e6e9d45",
   "metadata": {},
   "outputs": [
    {
     "name": "stdout",
     "output_type": "stream",
     "text": [
      "tensor([[0.7335, 0.8399, 0.8170],\n",
      "        [0.2361, 0.4357, 0.3898]])\n"
     ]
    }
   ],
   "source": [
    "t_rand = torch.rand(2,3)\n",
    "print(t_rand)"
   ]
  },
  {
   "cell_type": "code",
   "execution_count": 13,
   "id": "1580e588",
   "metadata": {},
   "outputs": [
    {
     "name": "stdout",
     "output_type": "stream",
     "text": [
      "torch.int64\n"
     ]
    }
   ],
   "source": [
    "t_a_new = t_a.to(torch.int64)\n",
    "print(t_a_new.dtype)"
   ]
  },
  {
   "cell_type": "code",
   "execution_count": 15,
   "id": "6d224aff",
   "metadata": {},
   "outputs": [
    {
     "name": "stdout",
     "output_type": "stream",
     "text": [
      "torch.Size([3, 5])  -- to -->  torch.Size([5, 3])\n"
     ]
    }
   ],
   "source": [
    "t = torch.rand(3,5)\n",
    "t_tr = torch.transpose(t,0,1)\n",
    "print(t.shape, ' -- to --> ', t_tr.shape)"
   ]
  },
  {
   "cell_type": "code",
   "execution_count": 16,
   "id": "09e05425",
   "metadata": {},
   "outputs": [
    {
     "name": "stdout",
     "output_type": "stream",
     "text": [
      "torch.Size([30])  -- to -->  torch.Size([5, 6])\n"
     ]
    }
   ],
   "source": [
    "t = torch.zeros(30)\n",
    "t_reshape = t.reshape(5,6)\n",
    "print(t.shape, ' -- to --> ', t_reshape.shape)"
   ]
  },
  {
   "cell_type": "code",
   "execution_count": 18,
   "id": "be0be3b1",
   "metadata": {},
   "outputs": [
    {
     "name": "stdout",
     "output_type": "stream",
     "text": [
      "torch.Size([1, 2, 1, 4, 1])  -- to -->  torch.Size([1, 2, 4, 1])\n"
     ]
    }
   ],
   "source": [
    "t = torch.zeros(1,2,1,4,1)\n",
    "t_sqz = torch.squeeze(t,2)\n",
    "print(t.shape, ' -- to --> ', t_sqz.shape)"
   ]
  },
  {
   "cell_type": "markdown",
   "id": "6344e194",
   "metadata": {},
   "source": [
    "### Linear Regression"
   ]
  },
  {
   "cell_type": "code",
   "execution_count": 20,
   "id": "6d72814a",
   "metadata": {},
   "outputs": [],
   "source": [
    "import sys\n",
    "import torch\n",
    "import numpy as np\n",
    "import matplotlib.pyplot as plt\n",
    "from torch.utils.data import TensorDataset\n",
    "from torch.utils.data import DataLoader\n",
    "import torch.nn as nn\n",
    "from sklearn.datasets import load_iris\n",
    "from sklearn.model_selection import train_test_split \n",
    "from scipy.special import expit"
   ]
  },
  {
   "cell_type": "code",
   "execution_count": 21,
   "id": "dfb19d63",
   "metadata": {},
   "outputs": [
    {
     "data": {
      "image/png": "[encoded data removed]",
      "text/plain": [
       "<Figure size 432x288 with 1 Axes>"
      ]
     },
     "metadata": {
      "needs_background": "light"
     },
     "output_type": "display_data"
    }
   ],
   "source": [
    "X_train = np.arange(10, dtype='float32').reshape((10, 1))\n",
    "y_train = np.array([1.0, 1.3, 3.1, 2.0, 5.0, 6.3, 6.6, \n",
    "                    7.4, 8.0, 9.0], dtype='float32')\n",
    "\n",
    "plt.plot(X_train, y_train, 'o', markersize=10)\n",
    "plt.xlabel('x')\n",
    "plt.ylabel('y')\n",
    "\n",
    "plt.show()"
   ]
  },
  {
   "cell_type": "code",
   "execution_count": 22,
   "id": "d2100bce",
   "metadata": {},
   "outputs": [],
   "source": [
    "X_train_norm = (X_train - np.mean(X_train)) / np.std(X_train)\n",
    "X_train_norm = torch.from_numpy(X_train_norm)\n",
    "y_train = torch.from_numpy(y_train)\n",
    "train_ds = TensorDataset(X_train_norm, y_train)\n",
    "batch_size = 1\n",
    "train_dl = DataLoader(train_ds, batch_size, shuffle=True)"
   ]
  },
  {
   "cell_type": "code",
   "execution_count": 35,
   "id": "9b9e22b8",
   "metadata": {},
   "outputs": [],
   "source": [
    "SEED = 42"
   ]
  },
  {
   "cell_type": "code",
   "execution_count": 36,
   "id": "fc560303",
   "metadata": {},
   "outputs": [],
   "source": [
    "torch.manual_seed(SEED)\n",
    "weight = torch.randn(1)\n",
    "weight.requires_grad_()\n",
    "bias = torch.zeros(1, requires_grad=True)\n",
    "def model(xb):\n",
    "    return xb @ weight + bias #Lin Reg\n",
    "def loss_fn(input,target):\n",
    "    return (input-target).pow(2).mean() #MSE"
   ]
  },
  {
   "cell_type": "code",
   "execution_count": 38,
   "id": "ef667c01",
   "metadata": {},
   "outputs": [
    {
     "name": "stdout",
     "output_type": "stream",
     "text": [
      "Epoch 0   Loss 0.3407\n",
      "Epoch 10   Loss 2.2671\n",
      "Epoch 20   Loss 0.8556\n",
      "Epoch 30   Loss 0.0813\n",
      "Epoch 40   Loss 0.2612\n",
      "Epoch 50   Loss 0.0664\n",
      "Epoch 60   Loss 0.0273\n",
      "Epoch 70   Loss 0.0111\n",
      "Epoch 80   Loss 2.3934\n",
      "Epoch 90   Loss 0.7679\n",
      "Epoch 100   Loss 0.0083\n",
      "Epoch 110   Loss 0.2614\n",
      "Epoch 120   Loss 0.0660\n",
      "Epoch 130   Loss 0.0402\n",
      "Epoch 140   Loss 0.0410\n",
      "Epoch 150   Loss 0.0689\n",
      "Epoch 160   Loss 0.2397\n",
      "Epoch 170   Loss 0.0062\n",
      "Epoch 180   Loss 0.0746\n",
      "Epoch 190   Loss 0.0745\n"
     ]
    }
   ],
   "source": [
    "lr_start = 0.001\n",
    "epochs = 200\n",
    "log_epochs = 10\n",
    "\n",
    "for epoch in range(epochs):\n",
    "    for x_batch, y_batch in train_dl:\n",
    "        pred = model(x_batch)\n",
    "        loss = loss_fn(pred, y_batch)\n",
    "        loss.backward()\n",
    "        with torch.no_grad():\n",
    "            weight -= weight.grad * lr_start\n",
    "            bias -= bias.grad * lr_start\n",
    "            weight.grad.zero_()\n",
    "            bias.grad.zero_()\n",
    "    if epoch % log_epochs==0:\n",
    "        print(f'Epoch {epoch}   Loss {loss.item():.4f}')"
   ]
  },
  {
   "cell_type": "code",
   "execution_count": 39,
   "id": "efacf5c4",
   "metadata": {},
   "outputs": [
    {
     "name": "stdout",
     "output_type": "stream",
     "text": [
      "Final Parameters: 2.705873727798462 4.968332767486572\n"
     ]
    },
    {
     "data": {
      "image/png": "[encoded data removed]",
      "text/plain": [
       "<Figure size 936x360 with 1 Axes>"
      ]
     },
     "metadata": {
      "needs_background": "light"
     },
     "output_type": "display_data"
    }
   ],
   "source": [
    "print('Final Parameters:', weight.item(), bias.item())\n",
    " \n",
    "X_test = np.linspace(0, 9, num=100, dtype='float32').reshape(-1, 1)\n",
    "X_test_norm = (X_test - np.mean(X_train)) / np.std(X_train)\n",
    "X_test_norm = torch.from_numpy(X_test_norm)\n",
    "y_pred = model(X_test_norm).detach().numpy()\n",
    "\n",
    "\n",
    "fig = plt.figure(figsize=(13, 5))\n",
    "ax = fig.add_subplot(1, 2, 1)\n",
    "plt.plot(X_train_norm, y_train, 'o', markersize=10)\n",
    "plt.plot(X_test_norm, y_pred, '--', lw=3)\n",
    "plt.legend(['Training examples', 'Linear Reg.'], fontsize=15)\n",
    "ax.set_xlabel('x', size=15)\n",
    "ax.set_ylabel('y', size=15)\n",
    "ax.tick_params(axis='both', which='major', labelsize=15)\n",
    " \n",
    "plt.show()"
   ]
  },
  {
   "cell_type": "markdown",
   "id": "5f36c15b",
   "metadata": {},
   "source": [
    "### Torch.nn and Torch.optim"
   ]
  },
  {
   "cell_type": "code",
   "execution_count": 40,
   "id": "a2ad2727",
   "metadata": {},
   "outputs": [],
   "source": [
    "loss_fn = nn.MSELoss(reduction='mean')\n",
    "input_size = 1\n",
    "output_size = 1\n",
    "model = nn.Linear(input_size, output_size)\n",
    "optimizer = torch.optim.SGD(model.parameters(), lr=lr_start)"
   ]
  },
  {
   "cell_type": "code",
   "execution_count": 41,
   "id": "f6330fff",
   "metadata": {},
   "outputs": [
    {
     "name": "stderr",
     "output_type": "stream",
     "text": [
      "/Users/niekvanderzwaag/opt/anaconda3/lib/python3.8/site-packages/torch/nn/modules/loss.py:529: UserWarning: Using a target size (torch.Size([1])) that is different to the input size (torch.Size([1, 1])). This will likely lead to incorrect results due to broadcasting. Please ensure they have the same size.\n",
      "  return F.mse_loss(input, target, reduction=self.reduction)\n"
     ]
    },
    {
     "name": "stdout",
     "output_type": "stream",
     "text": [
      "Epoch 0   Loss 0.4153\n",
      "Epoch 10   Loss 21.6644\n",
      "Epoch 20   Loss 3.1557\n",
      "Epoch 30   Loss 6.4884\n",
      "Epoch 40   Loss 0.0071\n",
      "Epoch 50   Loss 3.5046\n",
      "Epoch 60   Loss 1.1369\n",
      "Epoch 70   Loss 2.7593\n",
      "Epoch 80   Loss 3.2163\n",
      "Epoch 90   Loss 1.2929\n",
      "Epoch 100   Loss 0.9294\n",
      "Epoch 110   Loss 0.6181\n",
      "Epoch 120   Loss 1.7026\n",
      "Epoch 130   Loss 0.0886\n",
      "Epoch 140   Loss 0.0969\n",
      "Epoch 150   Loss 2.0167\n",
      "Epoch 160   Loss 0.0008\n",
      "Epoch 170   Loss 0.1152\n",
      "Epoch 180   Loss 0.1350\n",
      "Epoch 190   Loss 0.0008\n"
     ]
    }
   ],
   "source": [
    "for epoch in range(epochs):\n",
    "    for x_batch, y_batch in train_dl:\n",
    "        pred = model(x_batch) #1. generate predictions\n",
    "        loss = loss_fn(pred, y_batch) #2. calculate loss\n",
    "        loss.backward() #3. compute gradients\n",
    "        optimizer.step() #4 update params using gradients\n",
    "        optimizer.zero_grad() #5 reset gradients to zero\n",
    "\n",
    "    if epoch % log_epochs==0:\n",
    "        print(f'Epoch {epoch}   Loss {loss.item():.4f}')"
   ]
  },
  {
   "cell_type": "code",
   "execution_count": 42,
   "id": "14af139a",
   "metadata": {},
   "outputs": [
    {
     "name": "stdout",
     "output_type": "stream",
     "text": [
      "Final Parameters: 2.6588027477264404 4.892544746398926\n"
     ]
    },
    {
     "data": {
      "image/png": "[encoded data removed]",
      "text/plain": [
       "<Figure size 936x360 with 1 Axes>"
      ]
     },
     "metadata": {
      "needs_background": "light"
     },
     "output_type": "display_data"
    }
   ],
   "source": [
    "print('Final Parameters:', model.weight.item(), model.bias.item())\n",
    " \n",
    "X_test = np.linspace(0, 9, num=100, dtype='float32').reshape(-1, 1)\n",
    "X_test_norm = (X_test - np.mean(X_train)) / np.std(X_train)\n",
    "X_test_norm = torch.from_numpy(X_test_norm)\n",
    "y_pred = model(X_test_norm).detach().numpy()\n",
    "\n",
    "\n",
    "fig = plt.figure(figsize=(13, 5))\n",
    "ax = fig.add_subplot(1, 2, 1)\n",
    "plt.plot(X_train_norm, y_train, 'o', markersize=10)\n",
    "plt.plot(X_test_norm, y_pred, '--', lw=3)\n",
    "plt.legend(['Training examples', 'Linear Reg.'], fontsize=15)\n",
    "ax.set_xlabel('x', size=15)\n",
    "ax.set_ylabel('y', size=15)\n",
    "ax.tick_params(axis='both', which='major', labelsize=15)\n",
    " \n",
    "plt.show()"
   ]
  },
  {
   "cell_type": "code",
   "execution_count": null,
   "id": "0d41d3f0",
   "metadata": {},
   "outputs": [],
   "source": []
  }
 ],
 "metadata": {
  "kernelspec": {
   "display_name": "Python 3 (ipykernel)",
   "language": "python",
   "name": "python3"
  },
  "language_info": {
   "codemirror_mode": {
    "name": "ipython",
    "version": 3
   },
   "file_extension": ".py",
   "mimetype": "text/x-python",
   "name": "python",
   "nbconvert_exporter": "python",
   "pygments_lexer": "ipython3",
   "version": "3.8.12"
  },
  "toc": {
   "base_numbering": 1,
   "nav_menu": {},
   "number_sections": true,
   "sideBar": true,
   "skip_h1_title": false,
   "title_cell": "Table of Contents",
   "title_sidebar": "Contents",
   "toc_cell": false,
   "toc_position": {},
   "toc_section_display": true,
   "toc_window_display": false
  },
  "varInspector": {
   "cols": {
    "lenName": 16,
    "lenType": 16,
    "lenVar": 40
   },
   "kernels_config": {
    "python": {
     "delete_cmd_postfix": "",
     "delete_cmd_prefix": "del ",
     "library": "var_list.py",
     "varRefreshCmd": "print(var_dic_list())"
    },
    "r": {
     "delete_cmd_postfix": ") ",
     "delete_cmd_prefix": "rm(",
     "library": "var_list.r",
     "varRefreshCmd": "cat(var_dic_list()) "
    }
   },
   "types_to_exclude": [
    "module",
    "function",
    "builtin_function_or_method",
    "instance",
    "_Feature"
   ],
   "window_display": false
  }
 },
 "nbformat": 4,
 "nbformat_minor": 5
}
